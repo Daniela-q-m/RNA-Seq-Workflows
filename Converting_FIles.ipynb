{
 "cells": [
  {
   "cell_type": "code",
   "execution_count": 2,
   "id": "9c28cb15",
   "metadata": {},
   "outputs": [],
   "source": [
    "import anndata\n",
    "adata = anndata.read('/Users/danielaquijano/Documents/GitHub_Files/RNA Seq Workflows/source_files/lung.h5ad')\n",
    "adata.write('/Users/danielaquijano/Documents/GitHub_Files/RNA Seq Workflows/source_files/lung.h5ad', compression=\"gzip\")"
   ]
  },
  {
   "cell_type": "code",
   "execution_count": null,
   "id": "ce991bb3",
   "metadata": {},
   "outputs": [],
   "source": []
  }
 ],
 "metadata": {
  "kernelspec": {
   "display_name": "Python 3 (ipykernel)",
   "language": "python",
   "name": "python3"
  },
  "language_info": {
   "codemirror_mode": {
    "name": "ipython",
    "version": 3
   },
   "file_extension": ".py",
   "mimetype": "text/x-python",
   "name": "python",
   "nbconvert_exporter": "python",
   "pygments_lexer": "ipython3",
   "version": "3.8.8"
  }
 },
 "nbformat": 4,
 "nbformat_minor": 5
}
